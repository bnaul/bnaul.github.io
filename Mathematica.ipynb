{
 "cells": [
  {
   "cell_type": "markdown",
   "metadata": {},
   "source": [
    "Some Mathematica code:\n",
    "```mathematica\n",
    "In[1]:= c = 1 / (2 * Log[2])\n",
    "In[2]:= sX = Sqrt[a * c / (1 + a)]\n",
    "In[3]:= sY = Sqrt[c / (1 + a)]\n",
    "In[4]:= f = PDF[MultinormalDistribution[{0, 0}, {{sX^2, 0}, {0, sY^2}}], {x, y}]\n",
    "In[5]:= NMaximize[{NIntegrate[f,  {x, -1, 1}, {y, -Sqrt[1 - x^2], Sqrt[1 - x^2]}], 0 < a < 1}, a]\n",
    "Out[5]= {0.766207, {a -> 0.144422}}\n",
    "```"
   ]
  },
  {
   "cell_type": "markdown",
   "metadata": {},
   "source": [
    "As rendered locally:\n",
    "<img src=\"mathematica.png\">"
   ]
  },
  {
   "cell_type": "markdown",
   "metadata": {},
   "source": [
    "As rendered by `jupyter-nbconvert --to html --template full Mathematica.ipynb`:\n",
    "<pre><code>In[1]:= c = 1 / (2 * Log[2])\n",
    "In[2]:= sX = Sqrt[a * c / (1 + a)]\n",
    "In[3]:= sY = Sqrt[c / (1 + a)]\n",
    "In[4]:= f = PDF[MultinormalDistribution[{0, 0}, {{sX^2, 0}, {0, sY^2}}], {x, y}]\n",
    "In[5]:= NMaximize[{NIntegrate[f,  {x, -1, 1}, {y, -Sqrt[1 - x^2], Sqrt[1 - x^2]}], 0 &lt; a &lt; 1}, a]\n",
    "Out[5]= {0.766207, {a -&gt; 0.144422}}</code></pre>"
   ]
  },
  {
   "cell_type": "markdown",
   "metadata": {
    "collapsed": true
   },
   "source": [
    "As rendered by Github:\n",
    "<pre><code>mathematica\n",
    "In[1]:= c = 1 / (2 * Log[2])\n",
    "In[2]:= sX = Sqrt[a * c / (1 + a)]\n",
    "In[3]:= sY = Sqrt[c / (1 + a)]\n",
    "In[4]:= f = PDF[MultinormalDistribution[{0, 0}, {{sX^2, 0}, {0, sY^2}}], {x, y}]\n",
    "In[5]:= NMaximize[{NIntegrate[f,  {x, -1, 1}, {y, -Sqrt[1 - x^2], Sqrt[1 - x^2]}], 0 &lt; a &lt; 1}, a]\n",
    "Out[5]= {0.766207, {a -&gt; 0.144422}}</code></pre>"
   ]
  }
 ],
 "metadata": {
  "kernelspec": {
   "display_name": "Python 3",
   "language": "python",
   "name": "python3"
  },
  "language_info": {
   "codemirror_mode": {
    "name": "ipython",
    "version": 3
   },
   "file_extension": ".py",
   "mimetype": "text/x-python",
   "name": "python",
   "nbconvert_exporter": "python",
   "pygments_lexer": "ipython3",
   "version": "3.5.1"
  }
 },
 "nbformat": 4,
 "nbformat_minor": 0
}
